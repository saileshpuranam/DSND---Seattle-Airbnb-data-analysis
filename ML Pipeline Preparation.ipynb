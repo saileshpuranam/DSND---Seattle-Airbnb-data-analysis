{
 "cells": [
  {
   "cell_type": "markdown",
   "metadata": {},
   "source": [
    "# ML Pipeline Preparation\n",
    "Follow the instructions below to help you create your ML pipeline.\n",
    "### 1. Import libraries and load data from database.\n",
    "- Import Python libraries\n",
    "- Load dataset from database with [`read_sql_table`](https://pandas.pydata.org/pandas-docs/stable/generated/pandas.read_sql_table.html)\n",
    "- Define feature and target variables X and Y"
   ]
  },
  {
   "cell_type": "code",
   "execution_count": 1,
   "metadata": {},
   "outputs": [
    {
     "name": "stdout",
     "output_type": "stream",
     "text": [
      "[nltk_data] Downloading package punkt to /root/nltk_data...\n",
      "[nltk_data]   Unzipping tokenizers/punkt.zip.\n",
      "[nltk_data] Downloading package wordnet to /root/nltk_data...\n",
      "[nltk_data]   Unzipping corpora/wordnet.zip.\n",
      "[nltk_data] Downloading package stopwords to /root/nltk_data...\n",
      "[nltk_data]   Unzipping corpora/stopwords.zip.\n"
     ]
    }
   ],
   "source": [
    "# import libraries\n",
    "import numpy as np\n",
    "import pandas as pd\n",
    "\n",
    "import nltk\n",
    "from nltk.corpus import stopwords\n",
    "from nltk.stem.porter import PorterStemmer\n",
    "from nltk.stem.wordnet import WordNetLemmatizer\n",
    "from nltk.tokenize import word_tokenize\n",
    "\n",
    "nltk.download(['punkt', 'wordnet', 'stopwords'])\n",
    "\n",
    "from sklearn.feature_extraction.text import CountVectorizer, TfidfTransformer\n",
    "from sklearn.ensemble import RandomForestClassifier\n",
    "from sklearn.linear_model import LogisticRegression\n",
    "from sklearn.metrics import classification_report\n",
    "from sklearn.model_selection import GridSearchCV, train_test_split\n",
    "from sklearn.multiclass import OneVsRestClassifier\n",
    "from sklearn.multioutput import MultiOutputClassifier\n",
    "from sklearn.pipeline import Pipeline\n",
    "from sklearn.tree import DecisionTreeClassifier\n",
    "\n",
    "from sqlalchemy import create_engine\n",
    "from time import time\n",
    "import joblib"
   ]
  },
  {
   "cell_type": "code",
   "execution_count": 2,
   "metadata": {},
   "outputs": [
    {
     "data": {
      "text/html": [
       "<div>\n",
       "<style scoped>\n",
       "    .dataframe tbody tr th:only-of-type {\n",
       "        vertical-align: middle;\n",
       "    }\n",
       "\n",
       "    .dataframe tbody tr th {\n",
       "        vertical-align: top;\n",
       "    }\n",
       "\n",
       "    .dataframe thead th {\n",
       "        text-align: right;\n",
       "    }\n",
       "</style>\n",
       "<table border=\"1\" class=\"dataframe\">\n",
       "  <thead>\n",
       "    <tr style=\"text-align: right;\">\n",
       "      <th></th>\n",
       "      <th>message</th>\n",
       "      <th>original</th>\n",
       "      <th>genre</th>\n",
       "      <th>related</th>\n",
       "      <th>request</th>\n",
       "      <th>offer</th>\n",
       "      <th>aid_related</th>\n",
       "      <th>medical_help</th>\n",
       "      <th>medical_products</th>\n",
       "      <th>search_and_rescue</th>\n",
       "      <th>...</th>\n",
       "      <th>aid_centers</th>\n",
       "      <th>other_infrastructure</th>\n",
       "      <th>weather_related</th>\n",
       "      <th>floods</th>\n",
       "      <th>storm</th>\n",
       "      <th>fire</th>\n",
       "      <th>earthquake</th>\n",
       "      <th>cold</th>\n",
       "      <th>other_weather</th>\n",
       "      <th>direct_report</th>\n",
       "    </tr>\n",
       "  </thead>\n",
       "  <tbody>\n",
       "    <tr>\n",
       "      <th>0</th>\n",
       "      <td>Weather update - a cold front from Cuba that c...</td>\n",
       "      <td>Un front froid se retrouve sur Cuba ce matin. ...</td>\n",
       "      <td>direct</td>\n",
       "      <td>1</td>\n",
       "      <td>0</td>\n",
       "      <td>0</td>\n",
       "      <td>0</td>\n",
       "      <td>0</td>\n",
       "      <td>0</td>\n",
       "      <td>0</td>\n",
       "      <td>...</td>\n",
       "      <td>0</td>\n",
       "      <td>0</td>\n",
       "      <td>0</td>\n",
       "      <td>0</td>\n",
       "      <td>0</td>\n",
       "      <td>0</td>\n",
       "      <td>0</td>\n",
       "      <td>0</td>\n",
       "      <td>0</td>\n",
       "      <td>0</td>\n",
       "    </tr>\n",
       "    <tr>\n",
       "      <th>1</th>\n",
       "      <td>Is the Hurricane over or is it not over</td>\n",
       "      <td>Cyclone nan fini osinon li pa fini</td>\n",
       "      <td>direct</td>\n",
       "      <td>1</td>\n",
       "      <td>0</td>\n",
       "      <td>0</td>\n",
       "      <td>1</td>\n",
       "      <td>0</td>\n",
       "      <td>0</td>\n",
       "      <td>0</td>\n",
       "      <td>...</td>\n",
       "      <td>0</td>\n",
       "      <td>0</td>\n",
       "      <td>1</td>\n",
       "      <td>0</td>\n",
       "      <td>1</td>\n",
       "      <td>0</td>\n",
       "      <td>0</td>\n",
       "      <td>0</td>\n",
       "      <td>0</td>\n",
       "      <td>0</td>\n",
       "    </tr>\n",
       "    <tr>\n",
       "      <th>2</th>\n",
       "      <td>Looking for someone but no name</td>\n",
       "      <td>Patnm, di Maryani relem pou li banm nouvel li ...</td>\n",
       "      <td>direct</td>\n",
       "      <td>1</td>\n",
       "      <td>0</td>\n",
       "      <td>0</td>\n",
       "      <td>0</td>\n",
       "      <td>0</td>\n",
       "      <td>0</td>\n",
       "      <td>0</td>\n",
       "      <td>...</td>\n",
       "      <td>0</td>\n",
       "      <td>0</td>\n",
       "      <td>0</td>\n",
       "      <td>0</td>\n",
       "      <td>0</td>\n",
       "      <td>0</td>\n",
       "      <td>0</td>\n",
       "      <td>0</td>\n",
       "      <td>0</td>\n",
       "      <td>0</td>\n",
       "    </tr>\n",
       "    <tr>\n",
       "      <th>3</th>\n",
       "      <td>UN reports Leogane 80-90 destroyed. Only Hospi...</td>\n",
       "      <td>UN reports Leogane 80-90 destroyed. Only Hospi...</td>\n",
       "      <td>direct</td>\n",
       "      <td>1</td>\n",
       "      <td>1</td>\n",
       "      <td>0</td>\n",
       "      <td>1</td>\n",
       "      <td>0</td>\n",
       "      <td>1</td>\n",
       "      <td>0</td>\n",
       "      <td>...</td>\n",
       "      <td>0</td>\n",
       "      <td>0</td>\n",
       "      <td>0</td>\n",
       "      <td>0</td>\n",
       "      <td>0</td>\n",
       "      <td>0</td>\n",
       "      <td>0</td>\n",
       "      <td>0</td>\n",
       "      <td>0</td>\n",
       "      <td>0</td>\n",
       "    </tr>\n",
       "    <tr>\n",
       "      <th>4</th>\n",
       "      <td>says: west side of Haiti, rest of the country ...</td>\n",
       "      <td>facade ouest d Haiti et le reste du pays aujou...</td>\n",
       "      <td>direct</td>\n",
       "      <td>1</td>\n",
       "      <td>0</td>\n",
       "      <td>0</td>\n",
       "      <td>0</td>\n",
       "      <td>0</td>\n",
       "      <td>0</td>\n",
       "      <td>0</td>\n",
       "      <td>...</td>\n",
       "      <td>0</td>\n",
       "      <td>0</td>\n",
       "      <td>0</td>\n",
       "      <td>0</td>\n",
       "      <td>0</td>\n",
       "      <td>0</td>\n",
       "      <td>0</td>\n",
       "      <td>0</td>\n",
       "      <td>0</td>\n",
       "      <td>0</td>\n",
       "    </tr>\n",
       "  </tbody>\n",
       "</table>\n",
       "<p>5 rows × 39 columns</p>\n",
       "</div>"
      ],
      "text/plain": [
       "                                             message  \\\n",
       "0  Weather update - a cold front from Cuba that c...   \n",
       "1            Is the Hurricane over or is it not over   \n",
       "2                    Looking for someone but no name   \n",
       "3  UN reports Leogane 80-90 destroyed. Only Hospi...   \n",
       "4  says: west side of Haiti, rest of the country ...   \n",
       "\n",
       "                                            original   genre  related  \\\n",
       "0  Un front froid se retrouve sur Cuba ce matin. ...  direct        1   \n",
       "1                 Cyclone nan fini osinon li pa fini  direct        1   \n",
       "2  Patnm, di Maryani relem pou li banm nouvel li ...  direct        1   \n",
       "3  UN reports Leogane 80-90 destroyed. Only Hospi...  direct        1   \n",
       "4  facade ouest d Haiti et le reste du pays aujou...  direct        1   \n",
       "\n",
       "   request  offer  aid_related  medical_help  medical_products  \\\n",
       "0        0      0            0             0                 0   \n",
       "1        0      0            1             0                 0   \n",
       "2        0      0            0             0                 0   \n",
       "3        1      0            1             0                 1   \n",
       "4        0      0            0             0                 0   \n",
       "\n",
       "   search_and_rescue      ...        aid_centers  other_infrastructure  \\\n",
       "0                  0      ...                  0                     0   \n",
       "1                  0      ...                  0                     0   \n",
       "2                  0      ...                  0                     0   \n",
       "3                  0      ...                  0                     0   \n",
       "4                  0      ...                  0                     0   \n",
       "\n",
       "   weather_related  floods  storm  fire  earthquake  cold  other_weather  \\\n",
       "0                0       0      0     0           0     0              0   \n",
       "1                1       0      1     0           0     0              0   \n",
       "2                0       0      0     0           0     0              0   \n",
       "3                0       0      0     0           0     0              0   \n",
       "4                0       0      0     0           0     0              0   \n",
       "\n",
       "   direct_report  \n",
       "0              0  \n",
       "1              0  \n",
       "2              0  \n",
       "3              0  \n",
       "4              0  \n",
       "\n",
       "[5 rows x 39 columns]"
      ]
     },
     "execution_count": 2,
     "metadata": {},
     "output_type": "execute_result"
    }
   ],
   "source": [
    "# load data from database\n",
    "engine = create_engine('sqlite:///InsertDatabaseName.db')\n",
    "con = engine.connect()\n",
    "engine.table_names()\n",
    "\n",
    "df = pd.read_sql_table(\"InsertTableName\", con)\n",
    "# Create Train Test datasets \n",
    "X = df.filter(items=['id', 'message', 'original', 'genre'])\n",
    "\n",
    "#Exckuding 'child_alone' as we saw in ETL pipeline notebook\n",
    "y = df.drop(['message', 'original', 'genre', 'child_alone'], axis=1)\n",
    "\n",
    "# Changing '2' to '1' in related as we saw in ETL pipeline notebook\n",
    "y['related']=y['related'].map(lambda x: 1 if x == 2 else x)\n",
    "df.head()"
   ]
  },
  {
   "cell_type": "markdown",
   "metadata": {},
   "source": [
    "### 2. Write a tokenization function to process your text data"
   ]
  },
  {
   "cell_type": "code",
   "execution_count": 4,
   "metadata": {},
   "outputs": [],
   "source": [
    "# Tokenization function\n",
    "def tokenize(text):\n",
    "    \n",
    "    '''Take out all punctuations and stopwords and Lemmatize as explained in teh course'''\n",
    "    \n",
    "    tokens = nltk.word_tokenize(text)\n",
    "    lemmatizer = nltk.WordNetLemmatizer()\n",
    "    '''Return Cleaned Tokens'''\n",
    "    return [lemmatizer.lemmatize(w).lower().strip() for w in tokens]"
   ]
  },
  {
   "cell_type": "markdown",
   "metadata": {},
   "source": [
    "### 3. Build a machine learning pipeline\n",
    "This machine pipeline should take in the `message` column as input and output classification results on the other 36 categories in the dataset. You may find the [MultiOutputClassifier](http://scikit-learn.org/stable/modules/generated/sklearn.multioutput.MultiOutputClassifier.html) helpful for predicting multiple target variables."
   ]
  },
  {
   "cell_type": "code",
   "execution_count": 6,
   "metadata": {},
   "outputs": [],
   "source": [
    "# ML Pipeline\n",
    "pipeline = Pipeline([('cvect', CountVectorizer(tokenizer = tokenize)),\n",
    "                     ('tfidf', TfidfTransformer()),\n",
    "                     ('clf', RandomForestClassifier())\n",
    "                     ])"
   ]
  },
  {
   "cell_type": "markdown",
   "metadata": {},
   "source": [
    "### 4. Train pipeline\n",
    "- Split data into train and test sets\n",
    "- Train pipeline"
   ]
  },
  {
   "cell_type": "code",
   "execution_count": 7,
   "metadata": {},
   "outputs": [
    {
     "data": {
      "text/plain": [
       "Pipeline(memory=None,\n",
       "     steps=[('cvect', CountVectorizer(analyzer='word', binary=False, decode_error='strict',\n",
       "        dtype=<class 'numpy.int64'>, encoding='utf-8', input='content',\n",
       "        lowercase=True, max_df=1.0, max_features=None, min_df=1,\n",
       "        ngram_range=(1, 1), preprocessor=None, stop_words=None,\n",
       "        stri...n_jobs=1,\n",
       "            oob_score=False, random_state=None, verbose=0,\n",
       "            warm_start=False))])"
      ]
     },
     "execution_count": 7,
     "metadata": {},
     "output_type": "execute_result"
    }
   ],
   "source": [
    "# Split data to create Train Test datasets\n",
    "X_train, X_test, y_train, y_test = train_test_split(X, y)\n",
    "\n",
    "# Train pipeline\n",
    "pipeline.fit(X_train['message'], y_train)"
   ]
  },
  {
   "cell_type": "markdown",
   "metadata": {},
   "source": [
    "### 5. Test your model\n",
    "Report the f1 score, precision and recall for each output category of the dataset. You can do this by iterating through the columns and calling sklearn's `classification_report` on each."
   ]
  },
  {
   "cell_type": "code",
   "execution_count": 9,
   "metadata": {},
   "outputs": [
    {
     "name": "stdout",
     "output_type": "stream",
     "text": [
      "                        precision    recall  f1-score   support\n",
      "\n",
      "               related       0.84      0.90      0.87      5020\n",
      "               request       0.81      0.36      0.50      1094\n",
      "                 offer       0.00      0.00      0.00        25\n",
      "           aid_related       0.75      0.42      0.54      2659\n",
      "          medical_help       0.82      0.02      0.03       514\n",
      "      medical_products       0.71      0.04      0.07       325\n",
      "     search_and_rescue       1.00      0.01      0.01       174\n",
      "              security       0.00      0.00      0.00        93\n",
      "              military       0.50      0.01      0.03       217\n",
      "                 water       0.78      0.11      0.20       401\n",
      "                  food       0.87      0.22      0.36       700\n",
      "               shelter       0.83      0.11      0.20       534\n",
      "              clothing       1.00      0.03      0.06        99\n",
      "                 money       0.57      0.03      0.05       158\n",
      "        missing_people       0.00      0.00      0.00        63\n",
      "              refugees       0.00      0.00      0.00       208\n",
      "                 death       0.81      0.04      0.08       307\n",
      "             other_aid       0.52      0.03      0.05       867\n",
      "infrastructure_related       0.00      0.00      0.00       427\n",
      "             transport       0.33      0.00      0.01       291\n",
      "             buildings       0.42      0.03      0.05       318\n",
      "           electricity       1.00      0.01      0.01       150\n",
      "                 tools       0.00      0.00      0.00        37\n",
      "             hospitals       0.00      0.00      0.00        64\n",
      "                 shops       0.00      0.00      0.00        21\n",
      "           aid_centers       0.00      0.00      0.00        74\n",
      "  other_infrastructure       0.00      0.00      0.00       301\n",
      "       weather_related       0.86      0.42      0.56      1832\n",
      "                floods       0.89      0.19      0.31       509\n",
      "                 storm       0.76      0.17      0.28       614\n",
      "                  fire       0.00      0.00      0.00        84\n",
      "            earthquake       0.92      0.39      0.55       631\n",
      "                  cold       0.57      0.04      0.07       110\n",
      "         other_weather       0.67      0.01      0.01       355\n",
      "         direct_report       0.79      0.30      0.44      1231\n",
      "\n",
      "           avg / total       0.73      0.39      0.45     20507\n",
      "\n",
      "\n",
      "                         precision    recall  f1-score   support\n",
      "\n",
      "               related       0.99      1.00      1.00     15074\n",
      "               request       1.00      0.94      0.97      3380\n",
      "                 offer       1.00      0.72      0.84        93\n",
      "           aid_related       1.00      0.96      0.98      8201\n",
      "          medical_help       1.00      0.84      0.91      1570\n",
      "      medical_products       1.00      0.83      0.91       988\n",
      "     search_and_rescue       1.00      0.79      0.88       550\n",
      "              security       1.00      0.75      0.85       378\n",
      "              military       1.00      0.79      0.88       643\n",
      "                 water       1.00      0.88      0.94      1271\n",
      "                  food       1.00      0.91      0.95      2223\n",
      "               shelter       1.00      0.90      0.95      1780\n",
      "              clothing       1.00      0.79      0.88       306\n",
      "                 money       1.00      0.77      0.87       446\n",
      "        missing_people       1.00      0.81      0.90       235\n",
      "              refugees       1.00      0.81      0.89       667\n",
      "                 death       1.00      0.84      0.91       887\n",
      "             other_aid       1.00      0.85      0.92      2579\n",
      "infrastructure_related       1.00      0.75      0.86      1278\n",
      "             transport       1.00      0.81      0.89       910\n",
      "             buildings       1.00      0.81      0.90      1015\n",
      "           electricity       1.00      0.75      0.85       382\n",
      "                 tools       1.00      0.74      0.85       122\n",
      "             hospitals       1.00      0.70      0.82       219\n",
      "                 shops       1.00      0.65      0.79        99\n",
      "           aid_centers       1.00      0.72      0.84       235\n",
      "  other_infrastructure       1.00      0.72      0.84       850\n",
      "       weather_related       1.00      0.95      0.97      5465\n",
      "                floods       1.00      0.89      0.94      1646\n",
      "                 storm       1.00      0.91      0.95      1829\n",
      "                  fire       1.00      0.73      0.84       198\n",
      "            earthquake       1.00      0.92      0.96      1824\n",
      "                  cold       1.00      0.78      0.88       420\n",
      "         other_weather       1.00      0.79      0.88      1021\n",
      "         direct_report       1.00      0.92      0.96      3844\n",
      "\n",
      "           avg / total       1.00      0.91      0.95     62628\n",
      "\n"
     ]
    },
    {
     "name": "stderr",
     "output_type": "stream",
     "text": [
      "/opt/conda/lib/python3.6/site-packages/sklearn/metrics/classification.py:1135: UndefinedMetricWarning: Precision and F-score are ill-defined and being set to 0.0 in labels with no predicted samples.\n",
      "  'precision', 'predicted', average, warn_for)\n"
     ]
    }
   ],
   "source": [
    "y_pred_test = pipeline.predict(X_test['message'])\n",
    "y_pred_train = pipeline.predict(X_train['message'])\n",
    "\n",
    "# Testing metrics\n",
    "print(classification_report(y_test.values, y_pred_test, target_names=y.columns.values))\n",
    "\n",
    "# Training metrics\n",
    "print('\\n',classification_report(y_train.values, y_pred_train, target_names=y.columns.values))"
   ]
  },
  {
   "cell_type": "markdown",
   "metadata": {},
   "source": [
    "### 6. Improve your model\n",
    "Use grid search to find better parameters. "
   ]
  },
  {
   "cell_type": "code",
   "execution_count": 10,
   "metadata": {},
   "outputs": [
    {
     "data": {
      "text/plain": [
       "{'memory': None,\n",
       " 'steps': [('cvect',\n",
       "   CountVectorizer(analyzer='word', binary=False, decode_error='strict',\n",
       "           dtype=<class 'numpy.int64'>, encoding='utf-8', input='content',\n",
       "           lowercase=True, max_df=1.0, max_features=None, min_df=1,\n",
       "           ngram_range=(1, 1), preprocessor=None, stop_words=None,\n",
       "           strip_accents=None, token_pattern='(?u)\\\\b\\\\w\\\\w+\\\\b',\n",
       "           tokenizer=<function tokenize at 0x7f6d434c0840>, vocabulary=None)),\n",
       "  ('tfidf',\n",
       "   TfidfTransformer(norm='l2', smooth_idf=True, sublinear_tf=False, use_idf=True)),\n",
       "  ('clf',\n",
       "   RandomForestClassifier(bootstrap=True, class_weight=None, criterion='gini',\n",
       "               max_depth=None, max_features='auto', max_leaf_nodes=None,\n",
       "               min_impurity_decrease=0.0, min_impurity_split=None,\n",
       "               min_samples_leaf=1, min_samples_split=2,\n",
       "               min_weight_fraction_leaf=0.0, n_estimators=10, n_jobs=1,\n",
       "               oob_score=False, random_state=None, verbose=0,\n",
       "               warm_start=False))],\n",
       " 'cvect': CountVectorizer(analyzer='word', binary=False, decode_error='strict',\n",
       "         dtype=<class 'numpy.int64'>, encoding='utf-8', input='content',\n",
       "         lowercase=True, max_df=1.0, max_features=None, min_df=1,\n",
       "         ngram_range=(1, 1), preprocessor=None, stop_words=None,\n",
       "         strip_accents=None, token_pattern='(?u)\\\\b\\\\w\\\\w+\\\\b',\n",
       "         tokenizer=<function tokenize at 0x7f6d434c0840>, vocabulary=None),\n",
       " 'tfidf': TfidfTransformer(norm='l2', smooth_idf=True, sublinear_tf=False, use_idf=True),\n",
       " 'clf': RandomForestClassifier(bootstrap=True, class_weight=None, criterion='gini',\n",
       "             max_depth=None, max_features='auto', max_leaf_nodes=None,\n",
       "             min_impurity_decrease=0.0, min_impurity_split=None,\n",
       "             min_samples_leaf=1, min_samples_split=2,\n",
       "             min_weight_fraction_leaf=0.0, n_estimators=10, n_jobs=1,\n",
       "             oob_score=False, random_state=None, verbose=0,\n",
       "             warm_start=False),\n",
       " 'cvect__analyzer': 'word',\n",
       " 'cvect__binary': False,\n",
       " 'cvect__decode_error': 'strict',\n",
       " 'cvect__dtype': numpy.int64,\n",
       " 'cvect__encoding': 'utf-8',\n",
       " 'cvect__input': 'content',\n",
       " 'cvect__lowercase': True,\n",
       " 'cvect__max_df': 1.0,\n",
       " 'cvect__max_features': None,\n",
       " 'cvect__min_df': 1,\n",
       " 'cvect__ngram_range': (1, 1),\n",
       " 'cvect__preprocessor': None,\n",
       " 'cvect__stop_words': None,\n",
       " 'cvect__strip_accents': None,\n",
       " 'cvect__token_pattern': '(?u)\\\\b\\\\w\\\\w+\\\\b',\n",
       " 'cvect__tokenizer': <function __main__.tokenize(text)>,\n",
       " 'cvect__vocabulary': None,\n",
       " 'tfidf__norm': 'l2',\n",
       " 'tfidf__smooth_idf': True,\n",
       " 'tfidf__sublinear_tf': False,\n",
       " 'tfidf__use_idf': True,\n",
       " 'clf__bootstrap': True,\n",
       " 'clf__class_weight': None,\n",
       " 'clf__criterion': 'gini',\n",
       " 'clf__max_depth': None,\n",
       " 'clf__max_features': 'auto',\n",
       " 'clf__max_leaf_nodes': None,\n",
       " 'clf__min_impurity_decrease': 0.0,\n",
       " 'clf__min_impurity_split': None,\n",
       " 'clf__min_samples_leaf': 1,\n",
       " 'clf__min_samples_split': 2,\n",
       " 'clf__min_weight_fraction_leaf': 0.0,\n",
       " 'clf__n_estimators': 10,\n",
       " 'clf__n_jobs': 1,\n",
       " 'clf__oob_score': False,\n",
       " 'clf__random_state': None,\n",
       " 'clf__verbose': 0,\n",
       " 'clf__warm_start': False}"
      ]
     },
     "execution_count": 10,
     "metadata": {},
     "output_type": "execute_result"
    }
   ],
   "source": [
    "pipeline.get_params()"
   ]
  },
  {
   "cell_type": "code",
   "execution_count": 12,
   "metadata": {},
   "outputs": [
    {
     "name": "stdout",
     "output_type": "stream",
     "text": [
      "Fitting 3 folds for each of 8 candidates, totalling 24 fits\n"
     ]
    },
    {
     "name": "stderr",
     "output_type": "stream",
     "text": [
      "[Parallel(n_jobs=-1)]: Done  24 out of  24 | elapsed:  9.3min finished\n"
     ]
    },
    {
     "data": {
      "text/plain": [
       "GridSearchCV(cv=None, error_score='raise',\n",
       "       estimator=Pipeline(memory=None,\n",
       "     steps=[('cvect', CountVectorizer(analyzer='word', binary=False, decode_error='strict',\n",
       "        dtype=<class 'numpy.int64'>, encoding='utf-8', input='content',\n",
       "        lowercase=True, max_df=1.0, max_features=None, min_df=1,\n",
       "        ngram_range=(1, 1), preprocessor=None, stop_words=None,\n",
       "        stri...n_jobs=1,\n",
       "            oob_score=False, random_state=None, verbose=0,\n",
       "            warm_start=False))]),\n",
       "       fit_params=None, iid=True, n_jobs=-1,\n",
       "       param_grid={'clf__max_depth': [10, None], 'clf__min_samples_leaf': [1], 'clf__min_samples_split': [3, 6], 'clf__n_estimators': [10, 20]},\n",
       "       pre_dispatch='2*n_jobs', refit=True, return_train_score='warn',\n",
       "       scoring='f1_micro', verbose=1)"
      ]
     },
     "execution_count": 12,
     "metadata": {},
     "output_type": "execute_result"
    }
   ],
   "source": [
    "# Defining parameters for grid search\n",
    "parameters = {'clf__max_depth': [10, None],\n",
    "              'clf__min_samples_leaf': [1],\n",
    "              'clf__min_samples_split': [3, 6],\n",
    "              'clf__n_estimators': [10, 20]}\n",
    "\n",
    "# Grid Search\n",
    "cv = GridSearchCV(pipeline, param_grid=parameters, scoring='f1_micro', verbose=1, n_jobs=-1)\n",
    "cv.fit(X_train['message'], y_train)"
   ]
  },
  {
   "cell_type": "markdown",
   "metadata": {},
   "source": [
    "### 7. Test your model\n",
    "Show the accuracy, precision, and recall of the tuned model.  \n",
    "\n",
    "Since this project focuses on code quality, process, and  pipelines, there is no minimum performance metric needed to pass. However, make sure to fine tune your models for accuracy, precision and recall to make your project stand out - especially for your portfolio!"
   ]
  },
  {
   "cell_type": "code",
   "execution_count": 13,
   "metadata": {},
   "outputs": [
    {
     "name": "stdout",
     "output_type": "stream",
     "text": [
      "                        precision    recall  f1-score   support\n",
      "\n",
      "               related       0.83      0.94      0.88      5020\n",
      "               request       0.80      0.42      0.55      1094\n",
      "                 offer       0.00      0.00      0.00        25\n",
      "           aid_related       0.75      0.52      0.61      2659\n",
      "          medical_help       0.58      0.02      0.04       514\n",
      "      medical_products       0.71      0.02      0.03       325\n",
      "     search_and_rescue       1.00      0.01      0.01       174\n",
      "              security       0.00      0.00      0.00        93\n",
      "              military       0.50      0.01      0.02       217\n",
      "                 water       0.83      0.31      0.45       401\n",
      "                  food       0.84      0.39      0.53       700\n",
      "               shelter       0.86      0.13      0.23       534\n",
      "              clothing       1.00      0.04      0.08        99\n",
      "                 money       0.60      0.02      0.04       158\n",
      "        missing_people       0.00      0.00      0.00        63\n",
      "              refugees       0.00      0.00      0.00       208\n",
      "                 death       0.79      0.05      0.09       307\n",
      "             other_aid       0.62      0.02      0.05       867\n",
      "infrastructure_related       1.00      0.00      0.01       427\n",
      "             transport       1.00      0.02      0.03       291\n",
      "             buildings       0.75      0.02      0.04       318\n",
      "           electricity       0.00      0.00      0.00       150\n",
      "                 tools       0.00      0.00      0.00        37\n",
      "             hospitals       1.00      0.02      0.03        64\n",
      "                 shops       0.00      0.00      0.00        21\n",
      "           aid_centers       0.00      0.00      0.00        74\n",
      "  other_infrastructure       0.00      0.00      0.00       301\n",
      "       weather_related       0.86      0.48      0.61      1832\n",
      "                floods       0.90      0.17      0.28       509\n",
      "                 storm       0.77      0.19      0.31       614\n",
      "                  fire       0.00      0.00      0.00        84\n",
      "            earthquake       0.91      0.46      0.61       631\n",
      "                  cold       0.67      0.02      0.04       110\n",
      "         other_weather       0.57      0.01      0.02       355\n",
      "         direct_report       0.78      0.34      0.47      1231\n",
      "\n",
      "           avg / total       0.76      0.43      0.48     20507\n",
      "\n",
      "\n",
      "                         precision    recall  f1-score   support\n",
      "\n",
      "               related       0.97      0.99      0.98     15074\n",
      "               request       0.99      0.88      0.93      3380\n",
      "                 offer       1.00      0.30      0.46        93\n",
      "           aid_related       0.99      0.95      0.97      8201\n",
      "          medical_help       1.00      0.64      0.78      1570\n",
      "      medical_products       1.00      0.63      0.77       988\n",
      "     search_and_rescue       1.00      0.53      0.69       550\n",
      "              security       1.00      0.50      0.66       378\n",
      "              military       1.00      0.65      0.79       643\n",
      "                 water       1.00      0.85      0.92      1271\n",
      "                  food       1.00      0.87      0.93      2223\n",
      "               shelter       0.99      0.77      0.87      1780\n",
      "              clothing       0.99      0.65      0.79       306\n",
      "                 money       1.00      0.54      0.71       446\n",
      "        missing_people       1.00      0.41      0.58       235\n",
      "              refugees       0.99      0.59      0.74       667\n",
      "                 death       1.00      0.66      0.79       887\n",
      "             other_aid       1.00      0.69      0.82      2579\n",
      "infrastructure_related       1.00      0.59      0.74      1278\n",
      "             transport       1.00      0.60      0.75       910\n",
      "             buildings       1.00      0.62      0.77      1015\n",
      "           electricity       1.00      0.51      0.67       382\n",
      "                 tools       1.00      0.46      0.63       122\n",
      "             hospitals       1.00      0.45      0.62       219\n",
      "                 shops       1.00      0.55      0.71        99\n",
      "           aid_centers       1.00      0.42      0.59       235\n",
      "  other_infrastructure       1.00      0.56      0.72       850\n",
      "       weather_related       0.99      0.92      0.96      5465\n",
      "                floods       1.00      0.78      0.87      1646\n",
      "                 storm       1.00      0.81      0.89      1829\n",
      "                  fire       1.00      0.55      0.71       198\n",
      "            earthquake       0.99      0.88      0.93      1824\n",
      "                  cold       1.00      0.57      0.72       420\n",
      "         other_weather       1.00      0.59      0.74      1021\n",
      "         direct_report       0.99      0.85      0.92      3844\n",
      "\n",
      "           avg / total       0.99      0.84      0.90     62628\n",
      "\n"
     ]
    },
    {
     "name": "stderr",
     "output_type": "stream",
     "text": [
      "/opt/conda/lib/python3.6/site-packages/sklearn/metrics/classification.py:1135: UndefinedMetricWarning: Precision and F-score are ill-defined and being set to 0.0 in labels with no predicted samples.\n",
      "  'precision', 'predicted', average, warn_for)\n"
     ]
    }
   ],
   "source": [
    "y_pred_test = cv.predict(X_test['message'])\n",
    "y_pred_train = cv.predict(X_train['message'])\n",
    "\n",
    "# Testing metrics\n",
    "print(classification_report(y_test.values, y_pred_test, target_names=y.columns.values))\n",
    "\n",
    "# Training metrics\n",
    "print('\\n',classification_report(y_train.values, y_pred_train, target_names=y.columns.values))"
   ]
  },
  {
   "cell_type": "markdown",
   "metadata": {},
   "source": [
    "### 8. Try improving your model further. Here are a few ideas:\n",
    "* try other machine learning algorithms\n",
    "* add other features besides the TF-IDF"
   ]
  },
  {
   "cell_type": "code",
   "execution_count": 14,
   "metadata": {},
   "outputs": [
    {
     "data": {
      "text/plain": [
       "{'clf__max_depth': None,\n",
       " 'clf__min_samples_leaf': 1,\n",
       " 'clf__min_samples_split': 6,\n",
       " 'clf__n_estimators': 10}"
      ]
     },
     "execution_count": 14,
     "metadata": {},
     "output_type": "execute_result"
    }
   ],
   "source": [
    "# Finding best parameters of the model\n",
    "cv.best_params_"
   ]
  },
  {
   "cell_type": "markdown",
   "metadata": {},
   "source": [
    "The best decision tree model wor this data would have the parameter shown above in the Output. Let's plug these parameters into the Pipeline and see how it goes"
   ]
  },
  {
   "cell_type": "code",
   "execution_count": 15,
   "metadata": {},
   "outputs": [
    {
     "name": "stdout",
     "output_type": "stream",
     "text": [
      "Fitting 3 folds for each of 1 candidates, totalling 3 fits\n"
     ]
    },
    {
     "name": "stderr",
     "output_type": "stream",
     "text": [
      "[Parallel(n_jobs=-1)]: Done   3 out of   3 | elapsed:  1.6min finished\n"
     ]
    },
    {
     "data": {
      "text/plain": [
       "GridSearchCV(cv=None, error_score='raise',\n",
       "       estimator=Pipeline(memory=None,\n",
       "     steps=[('cvect', CountVectorizer(analyzer='word', binary=False, decode_error='strict',\n",
       "        dtype=<class 'numpy.int64'>, encoding='utf-8', input='content',\n",
       "        lowercase=True, max_df=1.0, max_features=None, min_df=1,\n",
       "        ngram_range=(1, 1), preprocessor=None, stop_words=None,\n",
       "        stri...n_jobs=1,\n",
       "            oob_score=False, random_state=None, verbose=0,\n",
       "            warm_start=False))]),\n",
       "       fit_params=None, iid=True, n_jobs=-1,\n",
       "       param_grid={'clf__max_depth': [None], 'clf__min_samples_leaf': [1], 'clf__min_samples_split': [6], 'clf__n_estimators': [20]},\n",
       "       pre_dispatch='2*n_jobs', refit=True, return_train_score='warn',\n",
       "       scoring='f1_micro', verbose=1)"
      ]
     },
     "execution_count": 15,
     "metadata": {},
     "output_type": "execute_result"
    }
   ],
   "source": [
    "# Define params\n",
    "parameters = {'clf__max_depth': [None],\n",
    "              'clf__min_samples_leaf': [1],\n",
    "              'clf__min_samples_split': [6],\n",
    "              'clf__n_estimators': [20]}\n",
    "\n",
    "cv_op = GridSearchCV(pipeline, param_grid=parameters, scoring='f1_micro', verbose=1, n_jobs=-1)\n",
    "cv_op.fit(X_train['message'], y_train)\n"
   ]
  },
  {
   "cell_type": "code",
   "execution_count": 16,
   "metadata": {
    "scrolled": true
   },
   "outputs": [
    {
     "name": "stdout",
     "output_type": "stream",
     "text": [
      "                        precision    recall  f1-score   support\n",
      "\n",
      "               related       0.82      0.95      0.88      5020\n",
      "               request       0.84      0.43      0.57      1094\n",
      "                 offer       0.00      0.00      0.00        25\n",
      "           aid_related       0.78      0.51      0.62      2659\n",
      "          medical_help       0.50      0.00      0.01       514\n",
      "      medical_products       0.80      0.02      0.05       325\n",
      "     search_and_rescue       0.00      0.00      0.00       174\n",
      "              security       0.00      0.00      0.00        93\n",
      "              military       0.00      0.00      0.00       217\n",
      "                 water       0.88      0.13      0.23       401\n",
      "                  food       0.85      0.28      0.42       700\n",
      "               shelter       0.89      0.13      0.22       534\n",
      "              clothing       0.86      0.06      0.11        99\n",
      "                 money       0.60      0.02      0.04       158\n",
      "        missing_people       0.00      0.00      0.00        63\n",
      "              refugees       0.33      0.00      0.01       208\n",
      "                 death       0.81      0.04      0.08       307\n",
      "             other_aid       0.78      0.02      0.03       867\n",
      "infrastructure_related       0.67      0.00      0.01       427\n",
      "             transport       0.60      0.02      0.04       291\n",
      "             buildings       1.00      0.02      0.04       318\n",
      "           electricity       1.00      0.01      0.01       150\n",
      "                 tools       0.00      0.00      0.00        37\n",
      "             hospitals       0.00      0.00      0.00        64\n",
      "                 shops       0.00      0.00      0.00        21\n",
      "           aid_centers       0.00      0.00      0.00        74\n",
      "  other_infrastructure       0.00      0.00      0.00       301\n",
      "       weather_related       0.88      0.46      0.61      1832\n",
      "                floods       0.91      0.18      0.30       509\n",
      "                 storm       0.80      0.20      0.31       614\n",
      "                  fire       0.00      0.00      0.00        84\n",
      "            earthquake       0.93      0.38      0.54       631\n",
      "                  cold       0.00      0.00      0.00       110\n",
      "         other_weather       0.50      0.01      0.01       355\n",
      "         direct_report       0.83      0.35      0.50      1231\n",
      "\n",
      "           avg / total       0.76      0.43      0.48     20507\n",
      "\n",
      "\n",
      "                         precision    recall  f1-score   support\n",
      "\n",
      "               related       0.99      1.00      0.99     15074\n",
      "               request       1.00      0.90      0.95      3380\n",
      "                 offer       1.00      0.33      0.50        93\n",
      "           aid_related       1.00      0.98      0.99      8201\n",
      "          medical_help       1.00      0.69      0.82      1570\n",
      "      medical_products       1.00      0.67      0.80       988\n",
      "     search_and_rescue       1.00      0.55      0.71       550\n",
      "              security       1.00      0.49      0.66       378\n",
      "              military       1.00      0.70      0.83       643\n",
      "                 water       1.00      0.85      0.92      1271\n",
      "                  food       1.00      0.90      0.94      2223\n",
      "               shelter       1.00      0.83      0.90      1780\n",
      "              clothing       0.99      0.74      0.84       306\n",
      "                 money       1.00      0.50      0.66       446\n",
      "        missing_people       1.00      0.51      0.68       235\n",
      "              refugees       1.00      0.62      0.77       667\n",
      "                 death       1.00      0.71      0.83       887\n",
      "             other_aid       1.00      0.73      0.84      2579\n",
      "infrastructure_related       1.00      0.62      0.77      1278\n",
      "             transport       1.00      0.65      0.78       910\n",
      "             buildings       1.00      0.68      0.81      1015\n",
      "           electricity       1.00      0.54      0.71       382\n",
      "                 tools       1.00      0.54      0.70       122\n",
      "             hospitals       1.00      0.50      0.66       219\n",
      "                 shops       1.00      0.39      0.57        99\n",
      "           aid_centers       1.00      0.49      0.65       235\n",
      "  other_infrastructure       1.00      0.60      0.75       850\n",
      "       weather_related       1.00      0.95      0.97      5465\n",
      "                floods       1.00      0.83      0.91      1646\n",
      "                 storm       1.00      0.87      0.93      1829\n",
      "                  fire       1.00      0.52      0.68       198\n",
      "            earthquake       0.99      0.88      0.93      1824\n",
      "                  cold       1.00      0.60      0.75       420\n",
      "         other_weather       1.00      0.62      0.76      1021\n",
      "         direct_report       0.99      0.88      0.94      3844\n",
      "\n",
      "           avg / total       0.99      0.86      0.92     62628\n",
      "\n"
     ]
    },
    {
     "name": "stderr",
     "output_type": "stream",
     "text": [
      "/opt/conda/lib/python3.6/site-packages/sklearn/metrics/classification.py:1135: UndefinedMetricWarning: Precision and F-score are ill-defined and being set to 0.0 in labels with no predicted samples.\n",
      "  'precision', 'predicted', average, warn_for)\n"
     ]
    }
   ],
   "source": [
    "y_pred_test = cv_op.predict(X_test['message'])\n",
    "y_pred_train = cv_op.predict(X_train['message'])\n",
    "\n",
    "# Testing metrics\n",
    "print(classification_report(y_test.values, y_pred_test, target_names=y.columns.values))\n",
    "\n",
    "# Training metrics\n",
    "print('\\n',classification_report(y_train.values, y_pred_train, target_names=y.columns.values))"
   ]
  },
  {
   "cell_type": "markdown",
   "metadata": {},
   "source": [
    "### 9. Export your model as a pickle file"
   ]
  },
  {
   "cell_type": "code",
   "execution_count": 13,
   "metadata": {},
   "outputs": [
    {
     "data": {
      "text/plain": [
       "['classifier.pkl']"
      ]
     },
     "execution_count": 13,
     "metadata": {},
     "output_type": "execute_result"
    }
   ],
   "source": [
    "joblib.dump(pipeline, \"classifier.pkl\")"
   ]
  },
  {
   "cell_type": "markdown",
   "metadata": {},
   "source": [
    "### 10. Use this notebook to complete `train.py`\n",
    "Use the template file attached in the Resources folder to write a script that runs the steps above to create a database and export a model based on a new dataset specified by the user."
   ]
  },
  {
   "cell_type": "code",
   "execution_count": 18,
   "metadata": {},
   "outputs": [],
   "source": []
  }
 ],
 "metadata": {
  "kernelspec": {
   "display_name": "Python 3",
   "language": "python",
   "name": "python3"
  },
  "language_info": {
   "codemirror_mode": {
    "name": "ipython",
    "version": 3
   },
   "file_extension": ".py",
   "mimetype": "text/x-python",
   "name": "python",
   "nbconvert_exporter": "python",
   "pygments_lexer": "ipython3",
   "version": "3.6.3"
  }
 },
 "nbformat": 4,
 "nbformat_minor": 2
}
